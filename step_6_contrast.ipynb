{
 "cells": [
  {
   "cell_type": "code",
   "execution_count": 1,
   "metadata": {},
   "outputs": [
    {
     "name": "stdout",
     "output_type": "stream",
     "text": [
      "Contrasts saved successfully!\n"
     ]
    }
   ],
   "source": [
    "import numpy as np\n",
    "\n",
    "def save_contrast_matrix(matrix, output_path):\n",
    "    np.savetxt(output_path, \n",
    "               matrix,\n",
    "               fmt='%.6f',     # 6 decimal precision\n",
    "               delimiter=' ',   # space-separated\n",
    "               comments='',     # no comments\n",
    "               header='')      # no header\n",
    "\n",
    "# Create your contrasts\n",
    "contrasts = np.array([\n",
    "   [0, 0, 0, 1, 0, 0],  \n",
    "   [0, 0, 0, -1, 0, 0],      \n",
    "   [0, 0, 1, 0, 0, 0],      \n",
    "   [0, 0, -1, 0, 0, 0],    \n",
    "   [0, 0, -1, 1, 0, 0],      \n",
    "   [0, 0, 1, -1, 0, 0]     \n",
    "])\n",
    "\n",
    "save_contrast_matrix(contrasts[0:1,:], '/home/localadmin/hpc_mount/Cortical_Microstructure_Changes_in_Schizophrenia/glm/EP_metab_positive.mat')  \n",
    "save_contrast_matrix(contrasts[1:2,:], '/home/localadmin/hpc_mount/Cortical_Microstructure_Changes_in_Schizophrenia/glm/EP_metab_negative.mat')  \n",
    "save_contrast_matrix(contrasts[2:3,:], '/home/localadmin/hpc_mount/Cortical_Microstructure_Changes_in_Schizophrenia/glm/HC_metab_positive.mat')  \n",
    "save_contrast_matrix(contrasts[3:4,:], '/home/localadmin/hpc_mount/Cortical_Microstructure_Changes_in_Schizophrenia/glm/HC_metab_negative.mat')  \n",
    "save_contrast_matrix(contrasts[4:5,:], '/home/localadmin/hpc_mount/Cortical_Microstructure_Changes_in_Schizophrenia/glm/med_EPHC.mat')  \n",
    "save_contrast_matrix(contrasts[5:6,:], '/home/localadmin/hpc_mount/Cortical_Microstructure_Changes_in_Schizophrenia/glm/med_HCEP.mat')  \n",
    "print(\"Contrasts saved successfully!\")"
   ]
  }
 ],
 "metadata": {
  "kernelspec": {
   "display_name": "Python 3",
   "language": "python",
   "name": "python3"
  },
  "language_info": {
   "codemirror_mode": {
    "name": "ipython",
    "version": 3
   },
   "file_extension": ".py",
   "mimetype": "text/x-python",
   "name": "python",
   "nbconvert_exporter": "python",
   "pygments_lexer": "ipython3",
   "version": "3.11.8"
  }
 },
 "nbformat": 4,
 "nbformat_minor": 2
}
